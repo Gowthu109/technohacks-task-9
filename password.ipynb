{
  "nbformat": 4,
  "nbformat_minor": 0,
  "metadata": {
    "colab": {
      "provenance": [],
      "authorship_tag": "ABX9TyMn7VAFfyN1IFhbSuJA8uX2",
      "include_colab_link": true
    },
    "kernelspec": {
      "name": "python3",
      "display_name": "Python 3"
    },
    "language_info": {
      "name": "python"
    }
  },
  "cells": [
    {
      "cell_type": "markdown",
      "metadata": {
        "id": "view-in-github",
        "colab_type": "text"
      },
      "source": [
        "<a href=\"https://colab.research.google.com/github/Gowthu109/technohacks-task-9/blob/main/password.ipynb\" target=\"_parent\"><img src=\"https://colab.research.google.com/assets/colab-badge.svg\" alt=\"Open In Colab\"/></a>"
      ]
    },
    {
      "cell_type": "code",
      "execution_count": 1,
      "metadata": {
        "colab": {
          "base_uri": "https://localhost:8080/"
        },
        "id": "Fbx-qjD2hjKl",
        "outputId": "08f197b7-ef21-4cf7-9c10-236723023cc1"
      },
      "outputs": [
        {
          "output_type": "stream",
          "name": "stdout",
          "text": [
            "Enter the desired length of your password: 10\n",
            "Generated password: |3YaC)hj*R\n"
          ]
        }
      ],
      "source": [
        "import random\n",
        "import string\n",
        "\n",
        "def generate_password(length):\n",
        "    characters = string.ascii_letters + string.digits + string.punctuation\n",
        "    password = ''.join(random.choice(characters) for _ in range(length))\n",
        "    return password\n",
        "\n",
        "def get_password_length():\n",
        "    while True:\n",
        "        try:\n",
        "            length = int(input(\"Enter the desired length of your password: \"))\n",
        "            if length <= 0:\n",
        "                print(\"Length should be a positive integer.\")\n",
        "            else:\n",
        "                return length\n",
        "        except ValueError:\n",
        "            print(\"Invalid input. Please enter a valid integer.\")\n",
        "\n",
        "password_length = get_password_length()\n",
        "password = generate_password(password_length)\n",
        "print(\"Generated password:\", password)\n"
      ]
    }
  ]
}